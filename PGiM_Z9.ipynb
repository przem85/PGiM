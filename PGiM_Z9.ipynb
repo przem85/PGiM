{
 "cells": [
  {
   "cell_type": "markdown",
   "metadata": {},
   "source": [
    "# Operacja „Hit-and-Miss” („Hit-or-Miss”)\n",
    "\n",
    "\n",
    "  * bazowa operacja morfologii matematycznej\n",
    "  * z niej można wywieźć wszystkie inne element strukturalny ma tu 3 rodzaje pól/pikseli:\n",
    "    * piksele obiektu ('1')\n",
    "    * piksele tła ('0')\n",
    "    * piksele nieokreślone – niebrane pod uwagę ('x')\n",
    "\n",
    "  * obraz wejściowy jest przeglądany piksel po pikselu, jeśli konfiguracja pikseli sąsiednich jest identyczna jak w SE, jest on ustawiany na wartość '1' ('0'), w przeciwnym przypadku na '0' ('1')\n",
    "  * aby wykryć daną cechę wyniki kilku SE mogą się sumować/mnożyć\n",
    "  \n",
    "  \n",
    "# Hit-or-miss\n",
    "\n",
    "  * Jeżeli obiekt strukturalny pasuje to zamieniam piksel na Biały jeśli nie to na Czarny\n",
    "  * wykonujemy na oryginalnym obrazie nie na kopi jak przy erozii i dylatacjii"
   ]
  },
  {
   "cell_type": "markdown",
   "metadata": {},
   "source": [
    "## Zadanie 1 \n",
    "  * Proszę dokonac binaryzacji obrazu LENA_512 algorytmem Otsu.\n",
    "  * Proszę wykonać operację Hit-or-miss za pomocą:\n",
    "\n",
    "\n",
    "$$\n",
    "\\begin{bmatrix} \n",
    "1 & 1 & 1 \\\\\n",
    "1 & x & 1 \\\\\n",
    "1 & 1 & 1 \\\\\n",
    "\\end{bmatrix} \n",
    "$$"
   ]
  },
  {
   "cell_type": "code",
   "execution_count": null,
   "metadata": {
    "collapsed": true
   },
   "outputs": [],
   "source": []
  },
  {
   "cell_type": "markdown",
   "metadata": {},
   "source": [
    "## Operacja pogrubiania – wypukły kształt (convex hull)\n",
    "\n",
    "Naszym celem jest znalezienie wypukłej otoczki obiektów.\n",
    "\n",
    "  * używanych jest 8 SE (elementy strukturalne):\n",
    "    * 2 wzorcowe:\n",
    "\n",
    "$$\n",
    "\\begin{bmatrix} \n",
    "1 & 1 & x \\\\\n",
    "1 & 0 & x \\\\\n",
    "1 & x & 0 \\\\\n",
    "\\end{bmatrix} \n",
    "$$\n",
    "\n",
    "$$\n",
    "\\begin{bmatrix} \n",
    "x & 1 & 1 \\\\\n",
    "x & 0 & 1 \\\\\n",
    "0 & x & 1\n",
    "\\end{bmatrix} \n",
    "$$\n",
    "    * po 3 SE z każdego wzorcowego obrócone o 90, 180, 270 stopni\n",
    "\n",
    "  * procedura iteracyjna: po osiągnięciu zbieżności kolejne iteracje nie zmieniają wyniku (procedura zatrzymuje się sama)"
   ]
  },
  {
   "cell_type": "code",
   "execution_count": null,
   "metadata": {
    "collapsed": true
   },
   "outputs": [],
   "source": []
  },
  {
   "cell_type": "markdown",
   "metadata": {},
   "source": [
    "## Zadanie 2 \n",
    "\n",
    "Proszę zbudować otoczkę wypukłą elementów na https://raw.githubusercontent.com/przem85/PGiM/master/img/convex.png. Proszę pokazać efekty po kilku iteracjach."
   ]
  },
  {
   "cell_type": "code",
   "execution_count": null,
   "metadata": {
    "collapsed": true
   },
   "outputs": [],
   "source": []
  },
  {
   "cell_type": "markdown",
   "metadata": {},
   "source": [
    "# Operacje pocieniania – znajdowanie szkieletu obiektu\n",
    "\n",
    "  * Naszym celem jest znalezienie szkieletu obiektu – linii reprezentujących obiekt.\n",
    "\n",
    "  * iteracyjne zmniejszanie obiektów – 8 SE powstałych z obrotów 2 SE:\n",
    "\n",
    "$$\n",
    "\\begin{bmatrix} \n",
    "1 & 1 & x \\\\\n",
    "1 & 0 & x \\\\\n",
    "1 & x & 0 \\\\\n",
    "\\end{bmatrix} \n",
    "$$\n",
    "\n",
    "$$\n",
    "\\begin{bmatrix} \n",
    "x & 1 & 1 \\\\\n",
    "x & 0 & 1 \\\\\n",
    "0 & x & 1\n",
    "\\end{bmatrix} \n",
    "$$\n",
    "\n",
    "  * aby uniknąć jednoczesnego usunięcia 2 ostatnich pikseli przez 2 różne SE, każdy z 8 SE jest stosowany w oddzielnym przejściu przez wszystkie piksele obrazu !!! (każda iteracja kryje w sobie 8 kompletnych iteracji)\n",
    "  * po osiągnięciu zbieżności kolejne iteracje nie zmieniają wyniku (procedura zatrzymuje się sama)"
   ]
  },
  {
   "cell_type": "code",
   "execution_count": null,
   "metadata": {
    "collapsed": true
   },
   "outputs": [],
   "source": []
  },
  {
   "cell_type": "markdown",
   "metadata": {},
   "source": [
    "# Zadanie 3 \n",
    "Proszę zbudować szkielet powyższą metodą na zbinaryzowanych (0tsu) obrazkach (Uwaga Obrazki poniżej nie są binarne)\n",
    "\n",
    "  * https://raw.githubusercontent.com/przem85/PGiM/master/img/template1.png.\n",
    "  * https://raw.githubusercontent.com/przem85/PGiM/master/img/template2.png.\n",
    "  * https://raw.githubusercontent.com/przem85/PGiM/master/img/template3.png.\n",
    "  * https://raw.githubusercontent.com/przem85/PGiM/master/img/template4.png.\n",
    "  * https://raw.githubusercontent.com/przem85/PGiM/master/img/template5.png.\n",
    "  * https://raw.githubusercontent.com/przem85/PGiM/master/img/template6.png.\n",
    "\n",
    "Proszę pokazać efekty po kilku iteracjach."
   ]
  },
  {
   "cell_type": "code",
   "execution_count": null,
   "metadata": {
    "collapsed": true
   },
   "outputs": [],
   "source": []
  },
  {
   "cell_type": "markdown",
   "metadata": {},
   "source": [
    "# pruning\n",
    "\n",
    "  * Naszym celem jest znalezienie oczyszczenie szkieletu z krótkich „odnóg”.\n",
    "\n",
    "  * iteracyjne zmniejszanie obiektów – 8 SE powstałych z obrotów 2 SE:\n",
    "\n",
    "$$\n",
    "\\begin{bmatrix} \n",
    "0 & x & x \\\\\n",
    "0 & 1 & 0 \\\\\n",
    "0 & 0 & 0\n",
    "\\end{bmatrix} \n",
    "$$\n",
    "\n",
    "$$\n",
    "\\begin{bmatrix} \n",
    "x & x & 0 \\\\\n",
    "0 & 1 & 0 \\\\\n",
    "0 & 0 & 0\n",
    "\\end{bmatrix} \n",
    "$$\n",
    "\n",
    "  * aby uniknąć jednoczesnego usunięcia 2 ostatnich pikseli przez 2 różne SE, każdy z 8 SE jest stosowany w oddzielnym przejściu przez wszystkie piksele obrazu !!! (każda iteracja kryje w sobie 8 kompletnych iteracji)\n",
    "  * procedura wykonywana określoną liczbę kroków – dostateczna liczba iteracji usunie wszystkie otwarte linie !!!"
   ]
  },
  {
   "cell_type": "code",
   "execution_count": null,
   "metadata": {
    "collapsed": true
   },
   "outputs": [],
   "source": []
  },
  {
   "cell_type": "markdown",
   "metadata": {},
   "source": [
    "# Zadanie 4 \n",
    "Proszę oczyścić szkielety z zadania 3."
   ]
  },
  {
   "cell_type": "code",
   "execution_count": null,
   "metadata": {
    "collapsed": true
   },
   "outputs": [],
   "source": []
  }
 ],
 "metadata": {
  "kernelspec": {
   "display_name": "Python 3",
   "language": "python",
   "name": "python3"
  },
  "language_info": {
   "codemirror_mode": {
    "name": "ipython",
    "version": 3
   },
   "file_extension": ".py",
   "mimetype": "text/x-python",
   "name": "python",
   "nbconvert_exporter": "python",
   "pygments_lexer": "ipython3",
   "version": "3.6.1"
  }
 },
 "nbformat": 4,
 "nbformat_minor": 2
}
