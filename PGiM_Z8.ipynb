{
 "cells": [
  {
   "cell_type": "markdown",
   "metadata": {},
   "source": [
    "# Morfologia matematyczna.\n",
    "\n",
    "\n",
    "W morfologii matematycznej operacje są dwuargumentowe:\n",
    "\n",
    "  * pierwszym argumentem jest obraz do przetworzenia\n",
    "  * drugim argumentem jest mniejszy obraz: element strukturalny"
   ]
  },
  {
   "cell_type": "markdown",
   "metadata": {},
   "source": [
    "# Erozja\n",
    "\n",
    "operacja erozja jest zastosowaniem sumy Minkowskiego do obrazów cyfrowych\n",
    "\n",
    "  * pierwszym argumentem jest obraz\n",
    "  * drugim element strukturalny\n",
    "  * zasada działania:\n",
    "    * do każdego piksela obrazu przykłada się element strukturalny (SE) w jego punkcie centralnym\n",
    "    * jeśli choć jeden piksel sąsiedztwa przykryty przez SE ma wartość '0', piksel bieżący też przyjmuje wartość '0' (tła)\n",
    "\n",
    "## Zadanie 1 \n",
    "\n",
    "* Proszę dokonać binaryzacji obrazu FIG_512 za pomocą algorytmu Otsu.\n",
    "* Proszę wykonać erozję na binarnej wersji obrazka z elementami strukturalnymi:\n",
    "\n",
    "$$\n",
    "\\begin{bmatrix} \n",
    "0 & 1 & 0 \\\\\n",
    "1 & 1 & 1 \\\\\n",
    "0 & 1 & 0\n",
    "\\end{bmatrix} \n",
    "$$\n",
    "\n",
    "$$\n",
    "\\begin{bmatrix} \n",
    "0 & 0 & 1 & 0 & 0 \\\\\n",
    "0 & 1 & 1 & 1 & 0 \\\\\n",
    "1 & 1 & 1 & 1 & 1 \\\\\n",
    "0 & 1 & 1 & 1 & 0 \\\\\n",
    "0 & 0 & 1 & 0 & 0\n",
    "\\end{bmatrix} \n",
    "$$\n",
    "\n",
    "* Proszę narysować różnice obrazów przed i po erozji (proszę nie pomylić kolejności)"
   ]
  },
  {
   "cell_type": "code",
   "execution_count": null,
   "metadata": {
    "collapsed": true
   },
   "outputs": [],
   "source": []
  },
  {
   "cell_type": "markdown",
   "metadata": {},
   "source": [
    "# Zadanie 2 \n",
    "\n",
    "* Proszę dokonać binaryzacji obrazu LENA_512 za pomocą algorytmu Otsu.\n",
    "* Proszę wykonać erozję na binarnej wersji obrazka z elementami strukturalnymi:\n",
    "\n",
    "$$\n",
    "\\begin{bmatrix} \n",
    "0 & 1 & 0 \\\\\n",
    "1 & 1 & 1 \\\\\n",
    "0 & 1 & 0\n",
    "\\end{bmatrix} \n",
    "$$\n",
    "\n",
    "$$\n",
    "\\begin{bmatrix} \n",
    "1 & 1 & 1 \\\\\n",
    "1 & 1 & 1 \\\\\n",
    "1 & 1 & 1\n",
    "\\end{bmatrix} \n",
    "$$\n",
    "\n",
    "* Proszę narysować różnice obrazów prze i po erozji (proszę nie pomylić kolejności)"
   ]
  },
  {
   "cell_type": "code",
   "execution_count": null,
   "metadata": {
    "collapsed": true
   },
   "outputs": [],
   "source": []
  },
  {
   "cell_type": "markdown",
   "metadata": {},
   "source": [
    "# Zadanie 3 \n",
    "\n",
    "  * Zdefiniujmy okrągły element strukturalny o promieniu r:\n",
    "$$\n",
    "B_r=\\{ (x1,x2) \\in \\mathbb{R}^2 \\colon x_{1}^2+x_{2}^2<r2 \\}\n",
    "$$\n",
    "  * Proszę dokonać binaryzacji obrazu LENA_512 za pomocą algorytmu Otsu, dla $r=2,3,4,5,6,7$"
   ]
  },
  {
   "cell_type": "code",
   "execution_count": null,
   "metadata": {
    "collapsed": true
   },
   "outputs": [],
   "source": []
  },
  {
   "cell_type": "markdown",
   "metadata": {},
   "source": [
    "# Dylacja\n",
    "\n",
    "  * operacja dylacji jest zastosowaniem sumy Minkowskiego do obrazów cyfrowych\n",
    "  * pierwszym argumentem jest obraz\n",
    "  * drugim element strukturalny\n",
    "  * zasada działania:\n",
    "    * do każdego piksela obrazu przykłada się element strukturalny (SE) w jego punkcie centralnym\n",
    "    * jeśli choć jeden piksel sąsiedztwa przykryty przez SE ma wartość '1', piksel bieżący też przyjmuje wartość '1' (obiektu pierwszoplanowego)\n",
    "\n",
    "\n",
    "## Zadanie 4  \n",
    "Proszę wykonać ćwiczenie 1 dla dylacji."
   ]
  },
  {
   "cell_type": "code",
   "execution_count": null,
   "metadata": {
    "collapsed": true
   },
   "outputs": [],
   "source": []
  },
  {
   "cell_type": "markdown",
   "metadata": {},
   "source": [
    "\n",
    "## Zadanie 5 \n",
    "Proszę wykonać ćwiczenie 2 dla dylacji."
   ]
  },
  {
   "cell_type": "code",
   "execution_count": null,
   "metadata": {
    "collapsed": true
   },
   "outputs": [],
   "source": []
  },
  {
   "cell_type": "markdown",
   "metadata": {},
   "source": [
    "# Operacja otwarcia i zamknięcia\n",
    "\n",
    "## Zadanie 6\n",
    "Proszę wykonać operację otwarcia na FIG_512 (erozja dylacja), dla okrągłego elementu strukturalnego o promieniach r=2,5,7,20.\n"
   ]
  },
  {
   "cell_type": "code",
   "execution_count": null,
   "metadata": {
    "collapsed": true
   },
   "outputs": [],
   "source": []
  },
  {
   "cell_type": "markdown",
   "metadata": {},
   "source": [
    "## Zadanie 7  \n",
    "Proszę wykonać operację zamknięcia na FIG_512 (dylacja erozja), dla okrągłego elementu strukturalnego o promieniach r=2,5,7,20."
   ]
  },
  {
   "cell_type": "code",
   "execution_count": null,
   "metadata": {
    "collapsed": true
   },
   "outputs": [],
   "source": []
  },
  {
   "cell_type": "markdown",
   "metadata": {},
   "source": [
    "# Erozja i Dylacja RGB\n",
    "\n",
    "## Erozja dla RGB\n",
    "\n",
    "$$\n",
    "L′(m,n)=min_{m_i, n_i \\in B(m,n)} (L(mi,ni))\n",
    "$$\n",
    "\n",
    "## Dylacja dla RGB\n",
    "\n",
    "$$\n",
    "L′(m,n)=max_{m_i, n_i \\in B(m,n)} (L(m_i,n_i))\n",
    "$$\n",
    "\n",
    "## Zadanie 8 \n",
    "Proszę wykonać erozję i dylatacją na obrazie Leny (format RGB) z elementami strukturalnym:\n",
    "\n",
    "$$\n",
    "\\begin{bmatrix} \n",
    "0 & 1 & 0 \\\\\n",
    "1 & 1 & 1 \\\\\n",
    "0 & 1 & 0\n",
    "\\end{bmatrix} \n",
    "$$\n",
    "\n"
   ]
  },
  {
   "cell_type": "code",
   "execution_count": null,
   "metadata": {
    "collapsed": true
   },
   "outputs": [],
   "source": []
  }
 ],
 "metadata": {
  "kernelspec": {
   "display_name": "Python 3",
   "language": "python",
   "name": "python3"
  },
  "language_info": {
   "codemirror_mode": {
    "name": "ipython",
    "version": 3
   },
   "file_extension": ".py",
   "mimetype": "text/x-python",
   "name": "python",
   "nbconvert_exporter": "python",
   "pygments_lexer": "ipython3",
   "version": "3.6.1"
  }
 },
 "nbformat": 4,
 "nbformat_minor": 2
}
