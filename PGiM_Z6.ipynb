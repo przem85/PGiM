{
 "cells": [
  {
   "cell_type": "markdown",
   "metadata": {},
   "source": [
    "# Zadanie 1 \n",
    "\n",
    "Proszę narysować histogram dla: LENA_512 oraz Statek 640 505\n",
    "\n",
    "  * Narysuj histogram oddzielnie dla R, G, B\n",
    "  * Narysuj histogram dla szarego zdjęcia"
   ]
  },
  {
   "cell_type": "code",
   "execution_count": null,
   "metadata": {
    "collapsed": true
   },
   "outputs": [],
   "source": []
  },
  {
   "cell_type": "markdown",
   "metadata": {},
   "source": [
    "# Zadanie 2 \n",
    "\n",
    "Proszę zaimplementować funkcje zmiany kontrastu obrazu.\n",
    "\n",
    "Wykorzystaj tablicę LUT:\n",
    "\n",
    "$$\n",
    "LUT(i) = \\left\\{ \\begin{array}{ll}\n",
    "0 & \\textrm{gdy } a \\left(i - \\frac{i_{max}}{2} \\right)+\\frac{i_{max}}{2}<0\\\\\n",
    "a \\left(i - \\frac{i_{max}}{2} \\right)+ i & \\textrm{gdy } 0 \\leq a \\left( i - \\frac{i_{max}}{2} \\right) + \\frac{i_{max}}{2} \\leq i_{max} \\\\\n",
    "i_{max} & \\textrm{gdy } a \\left( i - \\frac{i_{max}}{2} \\right)+ \\frac{i_{max}}{2}>i_{max} \n",
    "\\end{array} \\right.\n",
    "$$\n",
    "\n",
    "\n",
    "Parametr\n",
    "  * $a<1$ zmniejszenie kontrastu\n",
    "  * $a=1$ identyczność\n",
    "  * $a>1$ zwiększenie kontrastu\n",
    "\n",
    "Uwagi:\n",
    "\n",
    "  * Proszę zastosować do zdjęcia LENA_512. Proszę wykonać na Luminancji (składowa Y z formatu YCbCr) a następnie wyświetlić w formacie RGB z uwzględnieniem kanałów Cb i Cr.\n",
    "  * Porównaj histogramy przed i po ściemnieniu"
   ]
  },
  {
   "cell_type": "code",
   "execution_count": null,
   "metadata": {
    "collapsed": true
   },
   "outputs": [],
   "source": []
  },
  {
   "cell_type": "markdown",
   "metadata": {},
   "source": [
    "# Rozciągnięcie histogramu\n",
    "\n",
    "  * piksele powinny wykorzystywać wszystkich dostępnych poziomów intensywności\n",
    "\n",
    "# Zadanie 3\n",
    "\n",
    "Proszę zaimplementować funkcje - Rozciągnięcie histogramu.\n",
    "\n",
    "Wykorzystaj tablicę LUT:\n",
    "\n",
    "$$ \n",
    "LUT(i)= \\frac{i_{max} }{ {v_{max} - v_{min}} } \\cdot (i - v_{min})\n",
    "$$\n",
    "\n",
    "Parametr:\n",
    "\n",
    "  * $v_{max}$ oznacza maksymalną wartość składowej w obrazie,\n",
    "  * $v_{min}$ oznacza minimalną wartość składowej w obrazie,\n",
    "  * $i_{max}$ oznacza maksymalną możliwą wartość składowej w obrazie.\n",
    "\n",
    "Uwagi:\n",
    "\n",
    "  * Proszę zastosować do zdjęcia LENA_512. Proszę wykonać na Luminancji (składowa Y z formatu YCbCr) a następnie wyświetlić w formacie RGB z uwzględnieniem kanałów Cb i Cr.\n",
    "  * Porównaj histogramy przed i po wyrównaniu.\n",
    "\n"
   ]
  },
  {
   "cell_type": "code",
   "execution_count": null,
   "metadata": {
    "collapsed": true
   },
   "outputs": [],
   "source": []
  },
  {
   "cell_type": "markdown",
   "metadata": {},
   "source": [
    "# Wyrównywanie histogramu\n",
    "\n",
    "  * wszystkie poziomy powinny być w przybliżeniu równoliczne\n",
    "  * czyli histogram powinien był płasku, bez gór i dolin\n",
    "\n",
    "# Zadanie 4 \n",
    "\n",
    "Proszę zaimplementować funkcje - Wyrównywanie histogramu.\n",
    "\n",
    "  * Najpierw stwórz dystrybuantę\n",
    "\n",
    "$$\n",
    "D(n)= \\frac{h_0+h_1+ \\ldots +h_n }{sum}\n",
    "$$\n",
    "\n",
    "gdzie:\n",
    "\n",
    "$h_n$ - to ilość punktów na obrazie o n'tym poziomie szarości,\n",
    "\n",
    "$sum$ - to liczba wszystkich punktów obrazu\n",
    "  \n",
    "  *  Wykorzystaj tablicę LUT:\n",
    "$$ \n",
    "LUT(i) = \\frac{D(i)-D_0}{1-D_0} \\cdot (k-1)\n",
    "$$\n",
    "\t\t\t\t\n",
    "Parametr\n",
    "\n",
    "$D_0$ - to pierwsza niezerowa wartość dystrybuanty obrazu źródłowego,\n",
    "\n",
    "$k$ - to liczba możliwych wartości jasności obrazu (zwykle 256).\n",
    "\n",
    "Uwagi:\n",
    "\n",
    "  * Proszę zastosować do zdjęcia LENA_512. Proszę wykonać na Luminancji (składowa Y z formatu YCbCr) a następnie wyświetlić w formacie RGB z uwzględnieniem kanałów Cb i Cr.\n",
    "  * PORÓWNAJ HISTOGRAMY PRZED I PO WYRÓWNANIU."
   ]
  },
  {
   "cell_type": "code",
   "execution_count": null,
   "metadata": {
    "collapsed": true
   },
   "outputs": [],
   "source": []
  },
  {
   "cell_type": "markdown",
   "metadata": {},
   "source": [
    "# Zadanie 5 \n",
    "\n",
    "Proszę zastosować do zdjęcia KOBIETA:\n",
    "\n",
    "![alt](https://raw.githubusercontent.com/przem85/PGiM/master/img/kobieta.jpg)\n",
    "\n",
    "  * Rozciągnięcie histogramu\n",
    "  * Wyrównywanie histogramu\n",
    "\n",
    "Uwagi:\n",
    "\n",
    "  * Przed wykonaniem powyższych operacji narysuj histogram i usuń piki odpowiadające wartością skrajnym (tak by muc rozciągnąć histogram)\n",
    "  * Proszę wykonać na zdjęciu w odcieniach szarości i RGB.  \n"
   ]
  },
  {
   "cell_type": "code",
   "execution_count": null,
   "metadata": {
    "collapsed": true
   },
   "outputs": [],
   "source": []
  }
 ],
 "metadata": {
  "kernelspec": {
   "display_name": "Python 3",
   "language": "python",
   "name": "python3"
  },
  "language_info": {
   "codemirror_mode": {
    "name": "ipython",
    "version": 3
   },
   "file_extension": ".py",
   "mimetype": "text/x-python",
   "name": "python",
   "nbconvert_exporter": "python",
   "pygments_lexer": "ipython3",
   "version": "3.6.0"
  }
 },
 "nbformat": 4,
 "nbformat_minor": 2
}
