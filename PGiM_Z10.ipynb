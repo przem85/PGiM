{
 "cells": [
  {
   "cell_type": "markdown",
   "metadata": {},
   "source": [
    "# Zadanie\n",
    "\n",
    "Wykonaj pzeskalowanie (zmniejszenie / rozszerzenie)\n",
    "\n",
    "Przeskalowanie można uzyskać za pomocą przekształcenia:\n",
    "\n",
    " $$\n",
    " \\begin{bmatrix} i \\\\ j  \\end{bmatrix}= \\begin{bmatrix} a & 0 & 0 \\\\ 0 & b & 0  \\end{bmatrix} \\begin{bmatrix} i' \\\\ j' \\\\ 1 \\end{bmatrix}, \n",
    " $$\n",
    "\n",
    "gdzie $a$ odpowiada za rozciągnięcie w poziomie, a $b$ w pionie."
   ]
  },
  {
   "cell_type": "code",
   "execution_count": null,
   "metadata": {
    "collapsed": true
   },
   "outputs": [],
   "source": []
  },
  {
   "cell_type": "markdown",
   "metadata": {},
   "source": [
    "# Zadanie \n",
    "\n",
    "Wykonaj obroty\n",
    "\n",
    "Obrót można uzyskać za pomocą przekształcenia:\n",
    "\n",
    "\n",
    "$$ \n",
    "\\begin{bmatrix}\n",
    "i \\\\ \n",
    "j  \n",
    "\\end{bmatrix}\n",
    "= \n",
    "\\begin{bmatrix} \n",
    "\\cos( \\phi ) & \\sin(\\phi) & 0 \\\\\n",
    "- \\sin(\\phi) & cos(\\phi) & 0  \n",
    "\\end{bmatrix} \n",
    "\\begin{bmatrix} \n",
    "i' \\\\ \n",
    "j' \\\\ \n",
    "1 \n",
    "\\end{bmatrix}, \n",
    "$$\n",
    "\n",
    "gdzie $\\phi$ jest kątem obrotu. "
   ]
  },
  {
   "cell_type": "code",
   "execution_count": null,
   "metadata": {
    "collapsed": true
   },
   "outputs": [],
   "source": []
  },
  {
   "cell_type": "markdown",
   "metadata": {},
   "source": [
    "# Zadanie \n",
    "\n",
    "Wykonaj ochylenie\n",
    "\n",
    "Pochylenie można uzyskać za pomocą przekształcenia:\n",
    "\n",
    "$$ \n",
    "\\begin{bmatrix} \n",
    "i \\\\ \n",
    "j  \n",
    "\\end{bmatrix}= \n",
    "\\begin{bmatrix} \n",
    "1 & \\tan(\\phi) & 0 \\\\ \n",
    "0 & 1 & 0  \n",
    "\\end{bmatrix} \n",
    "\\begin{bmatrix} \n",
    "i' \\\\ \n",
    "j' \\\\ \n",
    "1 \n",
    "\\end{bmatrix}, \n",
    "$$\n",
    "\n",
    "gdzie $\\phi$ jest kątem pochylenia."
   ]
  },
  {
   "cell_type": "code",
   "execution_count": null,
   "metadata": {
    "collapsed": true
   },
   "outputs": [],
   "source": []
  },
  {
   "cell_type": "markdown",
   "metadata": {},
   "source": [
    "# Zadanie\n",
    "\n",
    "Wykoaj przekształcenie panoramiczne\n",
    "\n",
    "Przekształcenie panoramiczne można uzyskać za pomocą przekształcenia:\n",
    "\n",
    "$$\n",
    "\\begin{bmatrix}\n",
    "i \\\\ \n",
    "j  \n",
    "\\end{bmatrix}= \n",
    "\\begin{bmatrix} \n",
    "a & 0 & 0 \\\\ \n",
    "0 & 1 & 0  \n",
    "\\end{bmatrix} \n",
    "\\begin{bmatrix} \n",
    "i' \\\\ \n",
    "j' \\\\ \n",
    "1 \n",
    "\\end{bmatrix}, \n",
    "$$\n",
    "\n",
    "Panoramiczne przekształcenie poprawia nieprawidłowe proporcje."
   ]
  },
  {
   "cell_type": "code",
   "execution_count": null,
   "metadata": {
    "collapsed": true
   },
   "outputs": [],
   "source": []
  },
  {
   "cell_type": "markdown",
   "metadata": {},
   "source": [
    "# Zadanie\n",
    "\n",
    "Operacji afinicznych możemy użyć do przekształcenia obiektu, tak aby jego geometria odpowiadała zadanemu układowi współrzędnych. Wykonaj taką operację na obrazie\n",
    "\n",
    "![alt](https://raw.githubusercontent.com/przem85/PGiM/master/img/content_car_registration.png)\n",
    "\n"
   ]
  },
  {
   "cell_type": "code",
   "execution_count": null,
   "metadata": {
    "collapsed": true
   },
   "outputs": [],
   "source": []
  },
  {
   "cell_type": "markdown",
   "metadata": {},
   "source": [
    "# Zadanie\n",
    "\n",
    "Znajdź przekształcenie, które przekształca pukty\n",
    "\n",
    "  * (37, 116);\n",
    "  * (37, 256);\n",
    "  * (454, 1);\n",
    "\n",
    "na\n",
    "\n",
    "  * (0, 0);\n",
    "  * (0, img.rows - 1);\n",
    "  * (img.cols - 1, 0);\n",
    "  \n",
    "oraz wukonaj na\n",
    "\n",
    "![alt](https://raw.githubusercontent.com/przem85/PGiM/master/img/content_car_registration.png)\n"
   ]
  },
  {
   "cell_type": "code",
   "execution_count": null,
   "metadata": {
    "collapsed": true
   },
   "outputs": [],
   "source": []
  },
  {
   "cell_type": "markdown",
   "metadata": {},
   "source": [
    "# Zadanie\n",
    "\n",
    "Wykoaj przekształcenie perspektywiczne a obrazie:\n",
    "    \n",
    "![alt](https://raw.githubusercontent.com/przem85/PGiM/master/img/content_perspective.jpg)"
   ]
  },
  {
   "cell_type": "code",
   "execution_count": null,
   "metadata": {
    "collapsed": true
   },
   "outputs": [],
   "source": []
  },
  {
   "cell_type": "markdown",
   "metadata": {},
   "source": [
    "# Zadanie\n",
    "\n",
    "Wyznacz komponenty spójne na obrazie:\n",
    "\n",
    "![alt](https://raw.githubusercontent.com/przem85/PGiM/master/img/content_circles.png))"
   ]
  },
  {
   "cell_type": "code",
   "execution_count": null,
   "metadata": {
    "collapsed": true
   },
   "outputs": [],
   "source": []
  }
 ],
 "metadata": {
  "kernelspec": {
   "display_name": "Python 3",
   "language": "python",
   "name": "python3"
  },
  "language_info": {
   "codemirror_mode": {
    "name": "ipython",
    "version": 3
   },
   "file_extension": ".py",
   "mimetype": "text/x-python",
   "name": "python",
   "nbconvert_exporter": "python",
   "pygments_lexer": "ipython3",
   "version": "3.6.1"
  }
 },
 "nbformat": 4,
 "nbformat_minor": 2
}
