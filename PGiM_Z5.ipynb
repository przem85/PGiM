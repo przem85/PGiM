{
 "cells": [
  {
   "cell_type": "code",
   "execution_count": 1,
   "metadata": {
    "collapsed": true
   },
   "outputs": [],
   "source": [
    "import cv2\n",
    "import numpy as np\n",
    "import matplotlib.pyplot as plt\n",
    "%matplotlib inline"
   ]
  },
  {
   "cell_type": "markdown",
   "metadata": {},
   "source": [
    "## Zadanie 1\n",
    "\n",
    "Dodaj do obrazu zakłócenie o rozkładzie jednostajnym na odcinku.\n",
    "\n",
    "  * Użyj funkcji zawierającej parametry\n",
    "      * level - określający maksymalną wartość zaburzenia (losuj z przedziału [-level,level])\n",
    "      * probability - określającą prawdopodobieństwo wystąpienia zaburzenia.\n",
    "  * Dodaj do każdej składowej RGB taką samą wartość.\n",
    "  * Proszę dokonać zakłócić obrazu LENA_512 w wersji kolorowej i czarno-białej (w kolorach szarości).\n",
    "\n",
    "Proszę dokonać zakłócić obrazu LENA_512 w wersji kolorowej i w odcieniach szarości."
   ]
  },
  {
   "cell_type": "code",
   "execution_count": 3,
   "metadata": {
    "collapsed": true
   },
   "outputs": [],
   "source": []
  },
  {
   "cell_type": "markdown",
   "metadata": {},
   "source": [
    "## Zadanie 2\n",
    "\n",
    "Dodaj do obrazu zakłócenie o rozkładzie Normalny o parametrach $m$, $\\sigma$.\n",
    "\n",
    "  * Użyj funkcji zawierającej parametry\n",
    "      * $m$ - średnia\n",
    "      * $\\sigma$ - odchylenie standardowe\n",
    "  * probability - określającą prawdopodobieństwo wystąpienia zaburzenia.\n",
    "  * Dodaj do każdej składowej RGB taką samą wartość.\n",
    "\n",
    "Proszę dokonać zakłócić obrazu LENA_512 w wersji kolorowej i w odcieniach szarości."
   ]
  },
  {
   "cell_type": "code",
   "execution_count": 25,
   "metadata": {
    "collapsed": true
   },
   "outputs": [],
   "source": []
  },
  {
   "cell_type": "markdown",
   "metadata": {},
   "source": [
    "## Zadanie 3\n",
    "\n",
    "Dodaj do obaru zakłócenie typu sól i pieprz\n",
    "\n",
    "  * Użyj funkcji zawierającej parametry\n",
    "      * probability - określającą prawdopodobieństwo wystąpienia zaburzenia.\n",
    "  * Dodaj do każdej składowej RGB taką samą wartość.\n",
    "  * Potraktuj każdy składnik osobno.\n",
    "\n",
    "Proszę dokonać zakłócić obrazu LENA_512 w wersji kolorowej i w odcieniach szarości."
   ]
  },
  {
   "cell_type": "code",
   "execution_count": 30,
   "metadata": {
    "collapsed": false
   },
   "outputs": [],
   "source": []
  },
  {
   "cell_type": "markdown",
   "metadata": {
    "collapsed": true
   },
   "source": [
    "# Zadanie 4 \n",
    "Proszę wykonać filtrację (Filtry średniej ruchomej) obrazów zaszumionych powyższymi (trzema) sposobami:\n",
    "\n",
    "  * tylko odcienie szarości. \n",
    "  * w formaci RGM na każdej warstwie niezależnie.\n",
    "  * konwerując do YCbCr, wykonując fitrację tylko na Y i wracajac spowrotem do RGB.\n",
    "  \n",
    "  I stwierdzić (nie na oko), który jest najlepszy.\n"
   ]
  },
  {
   "cell_type": "code",
   "execution_count": null,
   "metadata": {
    "collapsed": true
   },
   "outputs": [],
   "source": []
  },
  {
   "cell_type": "markdown",
   "metadata": {},
   "source": [
    "# Zadanie 5 \n",
    "Proszę wykonać filtrację (Filtry medianowy) obrazów zaszumionych powyższymi (trzema) sposobami:\n",
    "\n",
    "  * tylko odcienie szarości. \n",
    "  * w formaci RGM na każdej warstwie niezależnie.\n",
    "  * konwerując do YCbCr, wykonując fitrację tylko na Y i wracajac spowrotem do RGB.\n",
    "  \n",
    "  I stwierdzić (nie na oko), który jest najlepszy.\n"
   ]
  },
  {
   "cell_type": "code",
   "execution_count": null,
   "metadata": {
    "collapsed": true
   },
   "outputs": [],
   "source": []
  }
 ],
 "metadata": {
  "kernelspec": {
   "display_name": "Python 3",
   "language": "python",
   "name": "python3"
  },
  "language_info": {
   "codemirror_mode": {
    "name": "ipython",
    "version": 3
   },
   "file_extension": ".py",
   "mimetype": "text/x-python",
   "name": "python",
   "nbconvert_exporter": "python",
   "pygments_lexer": "ipython3",
   "version": "3.6.0"
  }
 },
 "nbformat": 4,
 "nbformat_minor": 2
}
