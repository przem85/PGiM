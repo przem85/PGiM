{
 "cells": [
  {
   "cell_type": "markdown",
   "metadata": {},
   "source": [
    "# Dźwięk.\n",
    "\n",
    "# Zadanie 1  \n",
    "\n",
    "  * Proszę wygenerować dane w kształcie sinusa.\n",
    "  * Proszę dodać szum typu pieprz i sól\n",
    "  * Proszę usunąć szum filtrem medianowym i średniej ruchomej."
   ]
  },
  {
   "cell_type": "code",
   "execution_count": null,
   "metadata": {
    "collapsed": true
   },
   "outputs": [],
   "source": []
  },
  {
   "cell_type": "markdown",
   "metadata": {},
   "source": [
    "# Zadanie 2 \n",
    "\n",
    " Proszę wygenerować dane w kształcie sinusa.\n",
    "  * Proszę dodać szum Gaussowski\n",
    "  * Proszę usunąć szum filtrem medianowym i średniej ruchomej."
   ]
  },
  {
   "cell_type": "code",
   "execution_count": null,
   "metadata": {
    "collapsed": true
   },
   "outputs": [],
   "source": []
  },
  {
   "cell_type": "markdown",
   "metadata": {},
   "source": [
    "# Zadanie\n",
    "\n",
    "Proszę wygenerować dane w kształcie sinusa i puścić jako dżwiek.\n",
    "\n",
    "Mam kod w R, który to robi, może pomoże: \n",
    "\n",
    "```R\n",
    "#install.packages('seewave')\n",
    "library(seewave)\n",
    "library(tuneR)\n",
    "library(audio) \n",
    "t = seq(0, 3, 1/8000)     #times in seconds if sample for 3 seconds at 8000Hz \n",
    "u = (2^15-1)*sin(2*pi*440*t)    #440 Hz sine wave that lasts t length seconds (here, 3 seconds) \n",
    "w = Wave(u, samp.rate = 8000, bit=16) #make the wave variable \n",
    "play(w)\n",
    "```"
   ]
  },
  {
   "cell_type": "code",
   "execution_count": null,
   "metadata": {
    "collapsed": true
   },
   "outputs": [],
   "source": []
  },
  {
   "cell_type": "markdown",
   "metadata": {},
   "source": [
    "Zadanie 4\n",
    "\n",
    "![alt](https://raw.githubusercontent.com/przem85/PGiM/master/img/fala.png)\n",
    "\n",
    "  * Proszę wygenerować dwa różne sygnały o takiej samej amplitudzie i okresie(częstotliwości).   Proszę je puścić jeden po drugim (człowiek nie słyszy przesunięcia w facie).\n",
    "  * Proszę wygenerować dwa różne sygnały o takiej samej fazie i okresie (częstotliwości).Proszę je puścić jeden po drugim, amplituda to siła głosu (człowiek słyszy w skali logarytmicznej log(A2), decybele).\n",
    "  * Proszę wygenerować dwa różne sygnały o takiej samej amplitudzie i fazie (tego i tak nie słyszymy). Proszę je puścić jeden po drugim, okres to częstotliwości głosu (to odpowiada za różnice w dźwiękach).\n"
   ]
  },
  {
   "cell_type": "code",
   "execution_count": null,
   "metadata": {
    "collapsed": true
   },
   "outputs": [],
   "source": []
  },
  {
   "cell_type": "markdown",
   "metadata": {},
   "source": [
    "# Zadanie 5\n",
    "\n",
    "  * Proszę nagrać swój głos w formacie .wav.\n",
    "  * Można użyć programu AVS Audio Recorder\n",
    "  * Można użyć mojego https://raw.githubusercontent.com/przem85/PGiM/master/img/ja1.wav ale tylko na zajęciach"
   ]
  },
  {
   "cell_type": "code",
   "execution_count": null,
   "metadata": {
    "collapsed": true
   },
   "outputs": [],
   "source": []
  },
  {
   "cell_type": "markdown",
   "metadata": {},
   "source": [
    "# Zadanie 6 \n",
    "\n",
    "  * Proszę narysować swój głos.\n",
    "  * Proszę odpalić swój głos."
   ]
  },
  {
   "cell_type": "code",
   "execution_count": null,
   "metadata": {
    "collapsed": true
   },
   "outputs": [],
   "source": []
  },
  {
   "cell_type": "markdown",
   "metadata": {},
   "source": [
    "# Zadanie 7 \n",
    "\n",
    "  * Proszę wykonać progowanie głosu.\n",
    "  * Jeżeli wartość mniejsza niż 0 to -400 w odwrotnym przypadku 400.\n",
    "  * Proszę narysować i puścić głos."
   ]
  },
  {
   "cell_type": "code",
   "execution_count": null,
   "metadata": {
    "collapsed": true
   },
   "outputs": [],
   "source": []
  },
  {
   "cell_type": "markdown",
   "metadata": {},
   "source": [
    "# Zadanie 8 (2 punkt) \n",
    "\n",
    "  * Proszę dodać szum typu pieprz i sól −200,200, Gaussowski N(0,200), jednostajny na odcinku [−200,200]\n",
    "  * Proszę usunąć szum filtrem medianowym i średniej ruchomej.\n",
    "  * Odpalić dźwięk przed i po filtrowaniu."
   ]
  },
  {
   "cell_type": "code",
   "execution_count": null,
   "metadata": {
    "collapsed": true
   },
   "outputs": [],
   "source": []
  }
 ],
 "metadata": {
  "kernelspec": {
   "display_name": "Python 3",
   "language": "python",
   "name": "python3"
  },
  "language_info": {
   "codemirror_mode": {
    "name": "ipython",
    "version": 3
   },
   "file_extension": ".py",
   "mimetype": "text/x-python",
   "name": "python",
   "nbconvert_exporter": "python",
   "pygments_lexer": "ipython3",
   "version": "3.5.4"
  }
 },
 "nbformat": 4,
 "nbformat_minor": 2
}
