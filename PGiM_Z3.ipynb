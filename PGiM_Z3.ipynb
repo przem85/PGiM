{
 "cells": [
  {
   "cell_type": "code",
   "execution_count": 1,
   "metadata": {
    "collapsed": true
   },
   "outputs": [],
   "source": [
    "import cv2\n",
    "import numpy as np\n",
    "import matplotlib.pyplot as plt\n",
    "%matplotlib inline"
   ]
  },
  {
   "cell_type": "markdown",
   "metadata": {},
   "source": [
    "# Operacje na dwóch obrazach."
   ]
  },
  {
   "cell_type": "markdown",
   "metadata": {},
   "source": [
    "## Zadanie\n",
    "Proszę napisać funkcję zwiększającą kolory obrazu o zadaną wartość."
   ]
  },
  {
   "cell_type": "code",
   "execution_count": null,
   "metadata": {
    "collapsed": true
   },
   "outputs": [],
   "source": []
  },
  {
   "cell_type": "markdown",
   "metadata": {},
   "source": [
    "## Zadanie\n",
    "Proszę dodać do siebie dwa obrazy:\n",
    "\n",
    "  * przeskalowanie obrazu wynikowego do oryginalnej skali\n",
    "  $$Image(x,y) = ( W_1*Image_1(x,y) + (1-W_1)Image_2(x,y) )$$\n",
    "  \n",
    "  * ustawienie wartości przekraczających maks na maks\n",
    "  $$Image(x,y) = min( maks, Image_1(x,y) + Image_2(x,y) )$$\n",
    "  \n",
    "  * efekt cykliczności – wartość wynikowa modulo maks\n",
    "  $$Image(x,y) = ( Image_1(x,y) + Image_2(x,y) ) \\% 256$$\n",
    "  \n",
    "Użyj obrazów:\n",
    "\n",
    "![alt](https://raw.githubusercontent.com/przem85/PGiM/master/img/eagle.jpg)\n",
    "![alt](https://raw.githubusercontent.com/przem85/PGiM/master/img/lake.jpg)\n"
   ]
  },
  {
   "cell_type": "code",
   "execution_count": null,
   "metadata": {
    "collapsed": true
   },
   "outputs": [],
   "source": []
  },
  {
   "cell_type": "markdown",
   "metadata": {},
   "source": [
    "## Zadanie \n",
    "Zaimplementuj dodawanie obrazów z saturacją.\n",
    "\n",
    "$$\n",
    "Image(x,y) = ( Image_1(x,y) + (1-W)Image_2(x,y) )\n",
    "$$\n",
    "\n",
    "Użyj obrazów:\n",
    "\n",
    "![alt](https://raw.githubusercontent.com/przem85/PGiM/master/img/boldt.jpg)\n",
    "![alt](https://raw.githubusercontent.com/przem85/PGiM/master/img/rain.jpg)"
   ]
  },
  {
   "cell_type": "code",
   "execution_count": null,
   "metadata": {
    "collapsed": false
   },
   "outputs": [],
   "source": []
  },
  {
   "cell_type": "markdown",
   "metadata": {},
   "source": [
    "## Zadanie\n",
    "Proszę odjąć do siebie dwa obrazy:\n",
    "\n",
    "  * przeskalowanie obrazu wynikowego do oryginalnej skali\n",
    "  $$Image(x,y) = ( W*Image_1(x,y) - (1-W)Image_2(x,y) )$$\n",
    "  \n",
    "  * ustawienie wartości przekraczających maks na maks\n",
    "  $$Image(x,y) = max( 0, Image_1(x,y) - Image_2(x,y) )$$\n",
    "  \n",
    "  * efekt cykliczności – wartość wynikowa modulo maks\n",
    "  $$Image(x,y) = ( Image_1(x,y) - Image_2(x,y) + 256 ) \\% 256$$\n",
    "  \n",
    "Użyj obrazów: eagle.jpg oraz lake.jpg."
   ]
  },
  {
   "cell_type": "code",
   "execution_count": null,
   "metadata": {
    "collapsed": false
   },
   "outputs": [],
   "source": []
  },
  {
   "cell_type": "markdown",
   "metadata": {},
   "source": [
    "## Zadanie \n",
    "\n",
    "  * Znajdź 3 różnice \n",
    "![alt](https://raw.githubusercontent.com/przem85/PGiM/master/img/s1.png)\n",
    "![alt](https://raw.githubusercontent.com/przem85/PGiM/master/img/s2.png)\n",
    "\n",
    "  * Znajdź 3 różnice \n",
    "![alt](https://raw.githubusercontent.com/przem85/PGiM/master/img/krol1.png)\n",
    "![alt](https://raw.githubusercontent.com/przem85/PGiM/master/img/krol2.png)\n",
    "\n",
    "Oczywiście za pomocą programu, który zadziała dla dowolnych zdjęć.\n",
    "Mnożenie."
   ]
  },
  {
   "cell_type": "code",
   "execution_count": null,
   "metadata": {
    "collapsed": true
   },
   "outputs": [],
   "source": []
  },
  {
   "cell_type": "markdown",
   "metadata": {},
   "source": [
    "## Zadanie  \n",
    "Proszę przemnożyć przez siebie dwa obrazy w tym drugi przeskalowany do [0,1]:\n",
    "\n",
    "przeskalowanie obrazu wynikowego do oryginalnej skali\n",
    "$$\n",
    "Image(x,y) = Image_1(x,y) * (Image_2(x,y)/255)\n",
    "$$\n",
    "\n",
    "Użyj obrazów:\n",
    "\n",
    "![alt](https://raw.githubusercontent.com/przem85/PGiM/master/img/LENA_512.jpg)\n",
    "![alt](https://raw.githubusercontent.com/przem85/PGiM/master/img/ok1.jpg)"
   ]
  },
  {
   "cell_type": "code",
   "execution_count": null,
   "metadata": {
    "collapsed": true
   },
   "outputs": [],
   "source": []
  },
  {
   "cell_type": "markdown",
   "metadata": {},
   "source": [
    "## Zadanie\n",
    "\n",
    "Proszę podzielić przez siebie dwa obrazy:\n",
    "$$\n",
    "Image(x,y) = Image_1(x,y) / Image_2(x,y)\n",
    "$$\n",
    "\n",
    "Proszę uważać na dzielenie przez zero.\n",
    "\n",
    "Użyj obrazów: eagle.jpg oraz lake.jpg."
   ]
  },
  {
   "cell_type": "code",
   "execution_count": null,
   "metadata": {
    "collapsed": false
   },
   "outputs": [],
   "source": []
  },
  {
   "cell_type": "markdown",
   "metadata": {},
   "source": [
    "## Zadanie\n",
    "\n",
    "Proszę znaleźć różnice (podobnie jak poprzednio) tylko zamiast odejmowania użyć dzielenia:"
   ]
  },
  {
   "cell_type": "code",
   "execution_count": null,
   "metadata": {
    "collapsed": true
   },
   "outputs": [],
   "source": []
  }
 ],
 "metadata": {
  "kernelspec": {
   "display_name": "Python 3",
   "language": "python",
   "name": "python3"
  },
  "language_info": {
   "codemirror_mode": {
    "name": "ipython",
    "version": 3
   },
   "file_extension": ".py",
   "mimetype": "text/x-python",
   "name": "python",
   "nbconvert_exporter": "python",
   "pygments_lexer": "ipython3",
   "version": "3.6.0"
  }
 },
 "nbformat": 4,
 "nbformat_minor": 2
}
